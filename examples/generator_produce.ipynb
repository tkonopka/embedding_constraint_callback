{
 "cells": [
  {
   "cell_type": "markdown",
   "id": "f2aa08b6-0ed3-4078-a387-ce32da492a9f",
   "metadata": {},
   "source": [
    "# Generation of a dataset with produce names\n",
    "\n",
    "This notebook generates text files `produce_1.txt` and `produce_2.txt` used in one of the tutorials."
   ]
  },
  {
   "cell_type": "code",
   "execution_count": 1,
   "id": "7b255d37-9496-43f2-a682-8fee0bde44df",
   "metadata": {},
   "outputs": [],
   "source": [
    "import numpy as np\n",
    "from itertools import permutations\n",
    "\n",
    "def write_tuples(data, file_path):\n",
    "    with open(file_path, \"w\") as f:\n",
    "        for row in data:\n",
    "            f.write(\",\".join([str(_) for _ in row]) + \"\\n\")"
   ]
  },
  {
   "cell_type": "markdown",
   "id": "ef63a5ea-5a69-4fc0-9798-7810b3dc64d9",
   "metadata": {},
   "source": [
    "Generate a dataset with a small set of fruits and vegetables."
   ]
  },
  {
   "cell_type": "code",
   "execution_count": 2,
   "id": "eb2df40b-e51f-4e8d-a126-d0c2f1b603b9",
   "metadata": {},
   "outputs": [],
   "source": [
    "# lists with produce items\n",
    "fruits = [\"apple\", \"orange\", \"banana\", \"strawberry\", \"mango\", \"pear\"] \n",
    "vegetables = [\"broccoli\", \"cabbage\", \"carrot\", \"cauliflower\", \"spinach\", \"parsnip\"]\n",
    "\n",
    "# generate tuples with all permutations of fruits and vegetables\n",
    "data = list(permutations(fruits, 3)) + list(permutations(vegetables, 3))\n",
    "write_tuples(data, \"produce_1.txt\")"
   ]
  },
  {
   "cell_type": "markdown",
   "id": "eae7432f-47d2-459d-8980-37134cc6b2df",
   "metadata": {},
   "source": [
    "Generate another dataset with additional produce items."
   ]
  },
  {
   "cell_type": "code",
   "execution_count": 3,
   "id": "56cd7ccd-aaeb-4d5c-85db-82330fa43263",
   "metadata": {},
   "outputs": [],
   "source": [
    "# longer lists of produce items\n",
    "fruits2 = fruits + [\"lemon\", \"kiwi\"] \n",
    "vegetables2 = vegetables + [\"pumpkin\", \"pepper\"]\n",
    "\n",
    "# another dataset with all permutations of fruits and vegetables\n",
    "data2 = list(permutations(fruits2, 3)) + list(permutations(vegetables2, 3))\n",
    "write_tuples(data2, \"produce_2.txt\")"
   ]
  }
 ],
 "metadata": {
  "kernelspec": {
   "display_name": "Python 3",
   "language": "python",
   "name": "python3"
  },
  "language_info": {
   "codemirror_mode": {
    "name": "ipython",
    "version": 3
   },
   "file_extension": ".py",
   "mimetype": "text/x-python",
   "name": "python",
   "nbconvert_exporter": "python",
   "pygments_lexer": "ipython3",
   "version": "3.8.8"
  }
 },
 "nbformat": 4,
 "nbformat_minor": 5
}
