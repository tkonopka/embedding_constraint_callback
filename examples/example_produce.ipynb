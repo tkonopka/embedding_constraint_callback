{
 "cells": [
  {
   "cell_type": "markdown",
   "id": "f2aa08b6-0ed3-4078-a387-ce32da492a9f",
   "metadata": {},
   "source": [
    "# Embeddings for expanding vocabularies"
   ]
  },
  {
   "cell_type": "markdown",
   "id": "567e043f-621e-494a-bf75-9f3cd8545064",
   "metadata": {},
   "source": [
    "This notebook demonstrates how to construct embeddings for vocabularies that change incrementally."
   ]
  },
  {
   "cell_type": "markdown",
   "id": "0a08b2ae-8ede-4883-9e00-e0653cab378d",
   "metadata": {},
   "source": [
    "A vocabulary is a set of elements that are relevant to a subject domain. For a natural language like English, the word 'vocabulary' is typically used to refer to the set of all words in the language. But the concept is also applicable in other settings. For example, a vocabulary may refer to the set of produce stocked in a shop. A finite vocabulary is useful for data management. However, a vocabulary by itself does not assign meaning to any of its elements, nor does it convey relationships (similarities and dissimilarities) between any of the elements."
   ]
  },
  {
   "cell_type": "markdown",
   "id": "8354224d-1335-45ba-9eaa-aa43c7bdbcdd",
   "metadata": {},
   "source": [
    "An embedding is a mapping of vocabulary elements into a low-dimensional space. The position of the elements in the low-dimensional space is intended to convey semantic meaning. For example, consider mapping elements \"apple\" and \"banana\" to nearby positions in a two-dimensional space, and mapping an element \"carrot\" to a position that is further away. These mappings can convey that \"apple\" and \"banana\" are more similar to each other (they are both fruits) than to \"carrot\" (a vegetable). The coordinates can also be used in calculations such as clustering, regressions, and other machine-learning models."
   ]
  },
  {
   "cell_type": "markdown",
   "id": "fd80c9e7-9e10-40bd-9161-582f80d7f014",
   "metadata": {},
   "source": [
    "PyTorch's module `Embedding` implements mappings from integers to coordinates. This module can be trained to create embeddings for a fixed vocabulary, and then apply those mappings in more complex neural networks. "
   ]
  },
  {
   "cell_type": "markdown",
   "id": "59df8051-5045-455c-a4e4-92b5f3f9e627",
   "metadata": {},
   "source": [
    "In long-running projects, it is possible that an initial vocabulary becomes too restrictive over time. In a natural language like English, it might become necessary to expand the set of words to include new words or phrases. Similarly, a vocabulary of produce may need to grow as a shop adds inventory."
   ]
  },
  {
   "cell_type": "markdown",
   "id": "d05f5ebf-b6b0-4633-9dbf-c3798e39c65c",
   "metadata": {},
   "source": [
    "A straightforward approach to respond to an expansion of a vocabulary is to train a new `Embedding` module. However, this is problematic because re-training from scratch is bound to produce coordinates that are incompatible with previous versions. If an embedding is used in any downstream applications, for example in a machine-learning classifier, then those applications would also require re-training, triggering a cascade of updates."
   ]
  },
  {
   "cell_type": "markdown",
   "id": "5e0a0a1b-dd48-497a-8d15-3f0cfd02537b",
   "metadata": {},
   "source": [
    "To counter this problem, this notebook shows how to constrain training of a new embedding so that the new embedding remains compatible with previous versions. The notebook relies on [pytorch](https://pytorch.org/) and [pytorch-lightning](https://pytorchlightning.ai/) to build embeddings, and on a class `EmbeddingConstraint` to constrain training of new embeddings. We begin by loading the required libraries."
   ]
  },
  {
   "cell_type": "code",
   "execution_count": 1,
   "id": "7b255d37-9496-43f2-a682-8fee0bde44df",
   "metadata": {},
   "outputs": [],
   "source": [
    "# general purpose packages\n",
    "import os\n",
    "import sys\n",
    "import numpy as np\n",
    "import pandas as pd\n",
    "import seaborn as sns\n",
    "import matplotlib.pyplot as plt\n",
    "\n",
    "# machine-learning with pytorch and pytorch-lightning\n",
    "import torch\n",
    "from torch import nn\n",
    "from torch.utils.data import Dataset, DataLoader\n",
    "import pytorch_lightning as pl\n",
    "from pytorch_lightning.callbacks.progress import TQDMProgressBar"
   ]
  },
  {
   "cell_type": "code",
   "execution_count": 2,
   "id": "5ce08f25-a72b-498f-abfb-750ce85a33e5",
   "metadata": {},
   "outputs": [],
   "source": [
    "# adjustment to sys,path to allow import from a local directory\n",
    "callbacks_path = os.path.abspath(os.path.join(\"..\", \"callbacks\"))\n",
    "if callbacks_path not in sys.path:\n",
    "    sys.path.append(callbacks_path)\n",
    "\n",
    "# callback used to constrain embeddings\n",
    "from embedding_constraint import EmbeddingConstraint"
   ]
  },
  {
   "cell_type": "code",
   "execution_count": 3,
   "id": "b81878ff-5c07-4c68-92a3-45e6489f2276",
   "metadata": {},
   "outputs": [
    {
     "name": "stderr",
     "output_type": "stream",
     "text": [
      "Global seed set to 123\n"
     ]
    },
    {
     "data": {
      "text/plain": [
       "123"
      ]
     },
     "execution_count": 3,
     "metadata": {},
     "output_type": "execute_result"
    }
   ],
   "source": [
    "# settings used by pytorch and/or pytorch-lightning\n",
    "device = \"cpu\"\n",
    "n_cpus = os.cpu_count()\n",
    "\n",
    "# random number generation\n",
    "pl.seed_everything(123)"
   ]
  },
  {
   "cell_type": "markdown",
   "id": "8dc303a6-fdaa-4d86-8c49-d4d3ce2779a6",
   "metadata": {},
   "source": [
    "## Embedding for an initial vocabulary\n",
    "\n",
    "\n",
    "\n",
    "A small dataset `produce_1.txt` contains 3-tuples of strings. This is a synthetic dataset with strings representing items of produce, and 3-tuples holding permutations of the constituent frutis and vegetables. Let's load this data and preview the first entry."
   ]
  },
  {
   "cell_type": "code",
   "execution_count": 4,
   "id": "4a19f636-2144-47aa-89bc-f8e63809d512",
   "metadata": {},
   "outputs": [
    {
     "name": "stdout",
     "output_type": "stream",
     "text": [
      "First data row:\t['apple' 'orange' 'banana']\n",
      "Dataset shape:\t(240, 3)\n"
     ]
    }
   ],
   "source": [
    "def read_produce_data(file_path):\n",
    "    with open(file_path, \"rt\") as f:\n",
    "        result = f.readlines()\n",
    "    result = [_.strip().split(\",\") for _ in result]\n",
    "    return np.array(result)    \n",
    "\n",
    "\n",
    "produce_data = read_produce_data(\"produce_1.txt\")\n",
    "print(f\"First data row:\\t{produce_data[0]}\")\n",
    "print(f\"Dataset shape:\\t{produce_data.shape}\")"
   ]
  },
  {
   "cell_type": "markdown",
   "id": "1b3ed95d-cde2-466c-8392-0c887e8526d8",
   "metadata": {},
   "source": [
    "Scanning the entire dataset, we can construct a vocabulary of all fruits and vegetables."
   ]
  },
  {
   "cell_type": "code",
   "execution_count": 5,
   "id": "25236bbe-0960-42a9-8355-5df3068c94a6",
   "metadata": {},
   "outputs": [
    {
     "name": "stdout",
     "output_type": "stream",
     "text": [
      "Vocabulary:\t['apple', 'banana', 'broccoli', 'cabbage', 'carrot', 'cauliflower', 'mango', 'orange', 'parsnip', 'pear', 'spinach', 'strawberry']\n",
      "Vocabulary size:\t12\n"
     ]
    }
   ],
   "source": [
    "produce_vocabulary = sorted(set(produce_data.flatten()))\n",
    "print(f\"Vocabulary:\\t{produce_vocabulary}\")\n",
    "print(f\"Vocabulary size:\\t{len(produce_vocabulary)}\")"
   ]
  },
  {
   "cell_type": "markdown",
   "id": "70d7ede5-33ae-46ba-9a7f-ccad7bc63353",
   "metadata": {},
   "source": [
    "We would like to produce concise numeric representations for these strings in a low-dimensional space. To this end, we can use the 3-tuples to train a neural network. We can provide two of the elements in each 3-tuple to the network, and ask the network to predict the third. \n",
    "\n",
    "It will be convenient to extend the `Dataset` class to present tuple data as tensors."
   ]
  },
  {
   "cell_type": "code",
   "execution_count": 6,
   "id": "c84f9f94-c79a-4f34-866b-a6d2eaab7cb1",
   "metadata": {},
   "outputs": [],
   "source": [
    "class VocabDataset(Dataset):    \n",
    "\n",
    "    def __init__(self, vocab, data):\n",
    "        \"\"\"\n",
    "        :param vocab: list with all vocabulary elements\n",
    "        :param data: matrix of strings\n",
    "        \"\"\"\n",
    "        super().__init__()\n",
    "        self.vocab = vocab\n",
    "        vocab_map = {k: i for i, k in enumerate(vocab)}\n",
    "        data = np.array(data)\n",
    "        encoded = np.array([vocab_map[_] for _ in data.flatten()])\n",
    "        encoded.shape = data.shape\n",
    "        # use first element in each matrix row as a label\n",
    "        self.label = torch.tensor(encoded[:, 0])\n",
    "        self.data = torch.tensor(encoded[:, 1:]).int()\n",
    "\n",
    "    def __len__(self):\n",
    "        return self.label.shape[0]\n",
    "\n",
    "    def __getitem__(self, idx):\n",
    "        return self.data[idx], self.label[idx]"
   ]
  },
  {
   "cell_type": "markdown",
   "id": "a4388873-2ff5-4cb7-861f-e80531e69d54",
   "metadata": {},
   "source": [
    "We can now create a `Dataset` object to present the data as tensors, and a `DataLoader` to fetch the data in batches."
   ]
  },
  {
   "cell_type": "code",
   "execution_count": 7,
   "id": "3a6617d2-a4ed-4b4e-a358-e45e829c22e3",
   "metadata": {},
   "outputs": [],
   "source": [
    "produce_dataset = VocabDataset(produce_vocabulary, produce_data)\n",
    "produce_loader = DataLoader(produce_dataset, \n",
    "                            batch_size=4,\n",
    "                            num_workers=n_cpus,\n",
    "                            shuffle=True, \n",
    "                            drop_last=True)"
   ]
  },
  {
   "cell_type": "markdown",
   "id": "57ee42a9-d18c-48e1-af61-2c040c71a73c",
   "metadata": {},
   "source": [
    "To train a neural network, we need an `Embedding` component that will convert vocabulary elements into a low-dimensional space. We also need a layer that will attempt to convert a pair of embeddings back to a vocabulary items, i.e. to predict a vocabulary items given a pair of two other items. This approach is implemented in the following pytorch-lightning module."
   ]
  },
  {
   "cell_type": "code",
   "execution_count": 8,
   "id": "f7cfca95-946f-4a63-86a8-b1d8852192dc",
   "metadata": {},
   "outputs": [],
   "source": [
    "class VocabModule(pl.LightningModule):    \n",
    "\n",
    "    def __init__(self, vocab_size, embedding_dim=2, context_size=2, lr=0.01):\n",
    "        \"\"\"\n",
    "        :param vocab_size: number of elements in the vocabulary\n",
    "        :param embedding_dim: number of embedding dimensions\n",
    "        :param context_size: number of elements provided as a context for training\n",
    "        :param lr: base learning rate\n",
    "        \"\"\"\n",
    "        super().__init__()\n",
    "        self.save_hyperparameters()\n",
    "        self.lr = lr\n",
    "        self.embedding = nn.Embedding(vocab_size, embedding_dim)        \n",
    "        self.output = nn.Linear(embedding_dim * context_size, vocab_size)\n",
    "        self.criterion = nn.CrossEntropyLoss()\n",
    "\n",
    "    def forward(self, x):\n",
    "        \"\"\"\n",
    "        :param x: data batch of shape (batch_size, context_size)\n",
    "        :return: tensor of shape (batch_size, vocab_size)\n",
    "        \"\"\"\n",
    "        batch_size, context_size = x.shape[0], x.shape[1]        \n",
    "        x = self.embedding(x.int())              \n",
    "        x = x.view(batch_size, context_size*self.hparams.embedding_dim)            \n",
    "        return self.output(x)        \n",
    "\n",
    "    @torch.no_grad()\n",
    "    def embed(self, x):        \n",
    "        return self.embedding(x.int())\n",
    "\n",
    "    def configure_optimizers(self):\n",
    "        optimizer = torch.optim.Adam(self.parameters(), lr=self.hparams.lr)\n",
    "        return [optimizer], []\n",
    "\n",
    "    def training_step(self, batch, batch_idx):\n",
    "        data, labels = batch        \n",
    "        pred = self.forward(data)        \n",
    "        loss = self.criterion(pred, labels)        \n",
    "        self.log(f\"train_loss\", loss)\n",
    "        return loss"
   ]
  },
  {
   "cell_type": "markdown",
   "id": "478547fc-169a-40c0-917f-11993275e162",
   "metadata": {},
   "source": [
    "Training can be carried out using a pytorch-lightning `Trainer`. For simplicity, we train for a fixed number of epochs."
   ]
  },
  {
   "cell_type": "code",
   "execution_count": 9,
   "id": "2772f344-5d86-48f4-b9b9-0e21a9d86c63",
   "metadata": {},
   "outputs": [],
   "source": [
    "def train_vocab_embedding(train_loader=None, epochs=10, **kwargs):\n",
    "    model = VocabModule(**kwargs)\n",
    "    trainer = pl.Trainer(gpus=0, \n",
    "                         max_epochs=epochs,\n",
    "                         log_every_n_steps=1,\n",
    "                         callbacks = [TQDMProgressBar(refresh_rate=5)],\n",
    "                         gradient_clip_val=5,\n",
    "                         enable_progress_bar=False)    \n",
    "    trainer.fit(model, train_loader)\n",
    "    model.to(device)\n",
    "    return model"
   ]
  },
  {
   "cell_type": "markdown",
   "id": "99accd31-74c1-4a6e-b809-b06b2eb358ab",
   "metadata": {},
   "source": [
    "We can finally train a model."
   ]
  },
  {
   "cell_type": "code",
   "execution_count": 10,
   "id": "f2ab4405-fdc4-4da6-b5da-e14bef23b67d",
   "metadata": {},
   "outputs": [
    {
     "name": "stderr",
     "output_type": "stream",
     "text": [
      "GPU available: False, used: False\n",
      "TPU available: False, using: 0 TPU cores\n",
      "IPU available: False, using: 0 IPUs\n",
      "\n",
      "  | Name      | Type             | Params\n",
      "-----------------------------------------------\n",
      "0 | embedding | Embedding        | 24    \n",
      "1 | output    | Linear           | 60    \n",
      "2 | criterion | CrossEntropyLoss | 0     \n",
      "-----------------------------------------------\n",
      "84        Trainable params\n",
      "0         Non-trainable params\n",
      "84        Total params\n",
      "0.000     Total estimated model params size (MB)\n"
     ]
    },
    {
     "data": {
      "application/vnd.jupyter.widget-view+json": {
       "model_id": "abf3acba685e42ffbfe4ebf2cf5b2ada",
       "version_major": 2,
       "version_minor": 0
      },
      "text/plain": [
       "Training: 0it [00:00, ?it/s]"
      ]
     },
     "metadata": {},
     "output_type": "display_data"
    }
   ],
   "source": [
    "model = train_vocab_embedding(produce_loader,                               \n",
    "                              vocab_size=len(produce_dataset.vocab))"
   ]
  },
  {
   "cell_type": "markdown",
   "id": "5b1b57dd-4fb4-42be-aae2-d83779fcba6e",
   "metadata": {},
   "source": [
    "Once the model is trained, we can apply the `Embedding` component withing the model to extract the low-dimensional representation for each vocabulary item, and visualize the result."
   ]
  },
  {
   "cell_type": "code",
   "execution_count": 11,
   "id": "ca4313b9-dca6-410f-a600-8f9ee1cb8d6a",
   "metadata": {},
   "outputs": [
    {
     "data": {
      "text/html": [
       "<div>\n",
       "<style scoped>\n",
       "    .dataframe tbody tr th:only-of-type {\n",
       "        vertical-align: middle;\n",
       "    }\n",
       "\n",
       "    .dataframe tbody tr th {\n",
       "        vertical-align: top;\n",
       "    }\n",
       "\n",
       "    .dataframe thead th {\n",
       "        text-align: right;\n",
       "    }\n",
       "</style>\n",
       "<table border=\"1\" class=\"dataframe\">\n",
       "  <thead>\n",
       "    <tr style=\"text-align: right;\">\n",
       "      <th></th>\n",
       "      <th>id</th>\n",
       "      <th>x</th>\n",
       "      <th>y</th>\n",
       "    </tr>\n",
       "  </thead>\n",
       "  <tbody>\n",
       "    <tr>\n",
       "      <th>0</th>\n",
       "      <td>apple</td>\n",
       "      <td>1.405304</td>\n",
       "      <td>0.635577</td>\n",
       "    </tr>\n",
       "    <tr>\n",
       "      <th>1</th>\n",
       "      <td>banana</td>\n",
       "      <td>1.001177</td>\n",
       "      <td>0.466538</td>\n",
       "    </tr>\n",
       "  </tbody>\n",
       "</table>\n",
       "</div>"
      ],
      "text/plain": [
       "       id         x         y\n",
       "0   apple  1.405304  0.635577\n",
       "1  banana  1.001177  0.466538"
      ]
     },
     "execution_count": 11,
     "metadata": {},
     "output_type": "execute_result"
    }
   ],
   "source": [
    "def make_embedding_table(vocab, model):\n",
    "    n = len(vocab)\n",
    "    indexes = torch.tensor(range(n))    \n",
    "    result = model.embedding(indexes).detach().numpy()\n",
    "    result = pd.DataFrame(result)\n",
    "    result.rename({0: \"x\", 1: \"y\"}, axis=1, inplace=True)\n",
    "    result[\"id\"] = vocab    \n",
    "    result = result[[\"id\", \"x\", \"y\"]]\n",
    "    return result\n",
    "\n",
    "embedding = make_embedding_table(produce_vocabulary, model)\n",
    "embedding.head(2)"
   ]
  },
  {
   "cell_type": "code",
   "execution_count": 12,
   "id": "278577e3-a82a-4f3e-9c87-b1f4d503e5d0",
   "metadata": {},
   "outputs": [
    {
     "data": {
      "image/png": "[encoded data removed]",
      "text/plain": [
       "<Figure size 432x432 with 1 Axes>"
      ]
     },
     "metadata": {
      "needs_background": "light"
     },
     "output_type": "display_data"
    }
   ],
   "source": [
    "def plt_embedding(embedding, ax, xylim=(-3, 3),\n",
    "                  xlab=\"Embedding dimension 1\", \n",
    "                  ylab=\"Embedding dimension 2\",\n",
    "                  title=\"\"):            \n",
    "    sns.scatterplot(data=embedding, x=\"x\", y =\"y\",\n",
    "                    color=\"#ffffff\", ax=ax)\n",
    "    for i in range(embedding.shape[0]):\n",
    "        ax.text(x=embedding[\"x\"][i], y=embedding[\"y\"][i], \n",
    "                s=embedding[\"id\"][i], ha=\"center\",\n",
    "                fontdict=dict(size=11))    \n",
    "    ax.set_xlabel(xlab, labelpad=12)\n",
    "    ax.set_ylabel(ylab, labelpad=12)    \n",
    "    ax.set_title(title)\n",
    "    ax.set(xlim=xylim)\n",
    "    ax.set(ylim=xylim)\n",
    "\n",
    "\n",
    "fig, ax = plt.subplots(1, 1, figsize = (6, 6))\n",
    "fig.tight_layout()\n",
    "plt_embedding(embedding, ax)\n",
    "plt.show()"
   ]
  },
  {
   "cell_type": "markdown",
   "id": "6b334036-ee29-46f7-ba66-a12f0a256993",
   "metadata": {},
   "source": [
    "The layout suggests a partition of the vocabulary into two primary groups. The labels reveal that the groups represent fruits and vegetables. Thus, the two-dimensional embedding captures semantic meaning of the vocabulary items."
   ]
  },
  {
   "cell_type": "markdown",
   "id": "7eafaa3c-7eb9-4c58-9e29-8b61224aed18",
   "metadata": {},
   "source": [
    "## Expanding the vocabulary\n",
    "\n",
    "Suppose that after some time, the dataset is updated to `produce_2.txt`."
   ]
  },
  {
   "cell_type": "code",
   "execution_count": 13,
   "id": "ebf6b480-3491-4814-8168-aa3f16b4d89c",
   "metadata": {},
   "outputs": [
    {
     "name": "stdout",
     "output_type": "stream",
     "text": [
      "First data row:\t['apple' 'orange' 'banana']\n",
      "Dataset shape:\t(672, 3)\n"
     ]
    }
   ],
   "source": [
    "produce_data2 = read_produce_data(\"produce_2.txt\")\n",
    "print(f\"First data row:\\t{produce_data2[0]}\")\n",
    "print(f\"Dataset shape:\\t{produce_data2.shape}\")"
   ]
  },
  {
   "cell_type": "markdown",
   "id": "18c9c7a6-d28c-418b-bf85-0fcc353be8e7",
   "metadata": {},
   "source": [
    "The dataset contains more tuples. It also contains a larger vocabulary of fruits and vegetables."
   ]
  },
  {
   "cell_type": "code",
   "execution_count": 14,
   "id": "7d3edbc6-0bfc-40d9-8b63-267e87745146",
   "metadata": {},
   "outputs": [
    {
     "name": "stdout",
     "output_type": "stream",
     "text": [
      "New vocabulary items:\t['kiwi', 'lemon', 'pepper', 'pumpkin']\n",
      "New vocabulary:\t['apple', 'banana', 'broccoli', 'cabbage', 'carrot', 'cauliflower', 'mango', 'orange', 'parsnip', 'pear', 'spinach', 'strawberry', 'kiwi', 'lemon', 'pepper', 'pumpkin']\n",
      "New vocabulary size:\t16\n"
     ]
    }
   ],
   "source": [
    "produce_vocabulary2 = sorted(set(produce_data2.flatten()))\n",
    "new_produce = sorted(set(produce_vocabulary2).difference(produce_vocabulary))\n",
    "produce_vocabulary2 = produce_vocabulary + new_produce\n",
    "print(f\"New vocabulary items:\\t{new_produce}\")\n",
    "print(f\"New vocabulary:\\t{produce_vocabulary2}\")\n",
    "print(f\"New vocabulary size:\\t{len(produce_vocabulary2)}\")"
   ]
  },
  {
   "cell_type": "markdown",
   "id": "f09a7814-716d-48e3-8b6f-aad76ceee6e4",
   "metadata": {},
   "source": [
    "The new vocabulary items are 'kiwi', 'lemon', 'pepper', and 'pumpkin'. These elements cannot be encoded into the low-dimensional space by our existing model. We must therefore train a new model. At first, let's try re-using our current training procedure on the new dataset."
   ]
  },
  {
   "cell_type": "code",
   "execution_count": 15,
   "id": "82dd87f4-854b-4888-8da7-19a02b0b6cff",
   "metadata": {},
   "outputs": [
    {
     "name": "stderr",
     "output_type": "stream",
     "text": [
      "GPU available: False, used: False\n",
      "TPU available: False, using: 0 TPU cores\n",
      "IPU available: False, using: 0 IPUs\n",
      "\n",
      "  | Name      | Type             | Params\n",
      "-----------------------------------------------\n",
      "0 | embedding | Embedding        | 32    \n",
      "1 | output    | Linear           | 80    \n",
      "2 | criterion | CrossEntropyLoss | 0     \n",
      "-----------------------------------------------\n",
      "112       Trainable params\n",
      "0         Non-trainable params\n",
      "112       Total params\n",
      "0.000     Total estimated model params size (MB)\n"
     ]
    },
    {
     "data": {
      "application/vnd.jupyter.widget-view+json": {
       "model_id": "9a5cf94ab48e4702b6fbc41a20578967",
       "version_major": 2,
       "version_minor": 0
      },
      "text/plain": [
       "Training: 0it [00:00, ?it/s]"
      ]
     },
     "metadata": {},
     "output_type": "display_data"
    }
   ],
   "source": [
    "# dataset and loader\n",
    "produce_dataset2 = VocabDataset(produce_vocabulary2, produce_data2)\n",
    "produce_loader2 = DataLoader(produce_dataset2, \n",
    "                             batch_size=4,\n",
    "                             num_workers=n_cpus,\n",
    "                             shuffle=True, \n",
    "                             drop_last=True)\n",
    "# model\n",
    "model2 = train_vocab_embedding(produce_loader2,                               \n",
    "                               vocab_size=len(produce_dataset2.vocab))\n",
    "embedding2 = make_embedding_table(produce_vocabulary2, model2)"
   ]
  },
  {
   "cell_type": "markdown",
   "id": "ed24db48-e7ba-4ecb-b20c-daaa99eb638a",
   "metadata": {},
   "source": [
    "And we visualize the embedding."
   ]
  },
  {
   "cell_type": "code",
   "execution_count": 16,
   "id": "6e2a75de-d7a4-4834-a314-21d8f172374e",
   "metadata": {},
   "outputs": [
    {
     "data": {
      "image/png": "[encoded data removed]",
      "text/plain": [
       "<Figure size 432x432 with 1 Axes>"
      ]
     },
     "metadata": {
      "needs_background": "light"
     },
     "output_type": "display_data"
    }
   ],
   "source": [
    "fig, ax = plt.subplots(1, 1, figsize = (6, 6))\n",
    "fig.tight_layout()\n",
    "plt_embedding(embedding2, ax)\n",
    "plt.show()"
   ]
  },
  {
   "cell_type": "markdown",
   "id": "6a043f7f-7efb-4212-97a4-6da341e3bcb0",
   "metadata": {},
   "source": [
    "Qualitatively, this embedding again separates the fruits and vegetables. However, the coordinates are all different than before. This is problematic because any downstream applications that use the embedding coordinates must now also be updated. In particular, any machine-learning models that rely on the coordinates to make predictions must now be retrained with the new coordinates."
   ]
  },
  {
   "cell_type": "markdown",
   "id": "87c6a9cf-c637-47ad-8de4-804e20f89a4e",
   "metadata": {},
   "source": [
    "## Expanding an embedding with constraints"
   ]
  },
  {
   "cell_type": "markdown",
   "id": "463a73dc-5969-43dc-953c-c264859637ad",
   "metadata": {},
   "source": [
    "We would like to train a new embedding for the expanded vocabulary, but ensure that the previously-trained elements remain at the previously-defined coordinates. For this, we introduce a new training function."
   ]
  },
  {
   "cell_type": "code",
   "execution_count": 17,
   "id": "8622db9a-8371-4bda-a406-8ebe1268bcb2",
   "metadata": {},
   "outputs": [],
   "source": [
    "def update_vocab_embedding(train_loader=None, epochs=10,\n",
    "                           prev_model=None, **kwargs):\n",
    "    model = VocabModule(**kwargs)\n",
    "    constraint = EmbeddingConstraint(model.embedding, prev_model.embedding)\n",
    "    trainer = pl.Trainer(gpus=0, \n",
    "                         max_epochs=epochs,\n",
    "                         callbacks = [TQDMProgressBar(refresh_rate=5),\n",
    "                                      constraint],\n",
    "                         gradient_clip_val=5,\n",
    "                         enable_progress_bar=False)    \n",
    "    trainer.fit(model, train_loader)\n",
    "    model.to(device)\n",
    "    return model"
   ]
  },
  {
   "cell_type": "markdown",
   "id": "b2efe919-8935-4379-9e3a-c3596cfad82f",
   "metadata": {},
   "source": [
    "The training function defines an `EmbeddingConstraint` object with two arguments. The first argument is the `Embedding` component in the new model. The second argument is a pre-existing embedding. The constraint is provided to the pytorch-lightning trainer as a callback. As the trainer will carry out training, the callback will maintain parts of the model embedding fixed."
   ]
  },
  {
   "cell_type": "markdown",
   "id": "ea2d1d3e-e7fb-4509-9817-52f8aba465b9",
   "metadata": {},
   "source": [
    "We can now train a model with the new training function."
   ]
  },
  {
   "cell_type": "code",
   "execution_count": null,
   "id": "9058fb1b-096f-4a15-94de-342a327b5220",
   "metadata": {},
   "outputs": [
    {
     "name": "stderr",
     "output_type": "stream",
     "text": [
      "GPU available: False, used: False\n",
      "TPU available: False, using: 0 TPU cores\n",
      "IPU available: False, using: 0 IPUs\n",
      "\n",
      "  | Name      | Type             | Params\n",
      "-----------------------------------------------\n",
      "0 | embedding | Embedding        | 32    \n",
      "1 | output    | Linear           | 80    \n",
      "2 | criterion | CrossEntropyLoss | 0     \n",
      "-----------------------------------------------\n",
      "112       Trainable params\n",
      "0         Non-trainable params\n",
      "112       Total params\n",
      "0.000     Total estimated model params size (MB)\n"
     ]
    },
    {
     "data": {
      "application/vnd.jupyter.widget-view+json": {
       "model_id": "d0128e6d33474f0fac4cc5bb6ede86f3",
       "version_major": 2,
       "version_minor": 0
      },
      "text/plain": [
       "Training: 0it [00:00, ?it/s]"
      ]
     },
     "metadata": {},
     "output_type": "display_data"
    }
   ],
   "source": [
    "model3 = update_vocab_embedding(produce_loader2, \n",
    "                                prev_model=model,\n",
    "                                vocab_size=len(produce_dataset2.vocab))\n",
    "embedding3 = make_embedding_table(produce_vocabulary2, model3)"
   ]
  },
  {
   "cell_type": "markdown",
   "id": "cfb01e7a-afed-4dcd-996d-96b4bfe44e6f",
   "metadata": {},
   "source": [
    "Finally, we can visualize the result. For ease of comparison, the first plot below reproduces the first embedding, and the second plot shows the new version."
   ]
  },
  {
   "cell_type": "code",
   "execution_count": null,
   "id": "c8c44a92-eefe-4504-8bcd-9ccf657bd24a",
   "metadata": {},
   "outputs": [],
   "source": [
    "fig, ax = plt.subplots(1, 2, figsize = (12, 6))\n",
    "fig.tight_layout()\n",
    "plt_embedding(embedding, ax[0], title=\"Original vocabulary\")\n",
    "plt_embedding(embedding3, ax[1], ylab=\"\", title=\"Expanded vocabulary\")\n",
    "plt.show()"
   ]
  },
  {
   "cell_type": "markdown",
   "id": "80ad6586-bfb5-4e50-9e1f-1e3ab6120817",
   "metadata": {},
   "source": [
    "The original set of fruits and vegetables are located at exactly the same positions in the new embedding as in the original version. The new elements are placed at reasonable locations within the layour, for example, 'kiwi' is placed nearby other fruits."
   ]
  },
  {
   "cell_type": "markdown",
   "id": "65e1698a-6843-4e97-b891-016484ddfeb5",
   "metadata": {},
   "source": [
    "## Conclusion"
   ]
  },
  {
   "cell_type": "markdown",
   "id": "2195e115-5e86-4450-9106-6ec92a4c87a4",
   "metadata": {},
   "source": [
    "This notebook demonstrated how to adjust an embedding to accomodate an expanding vocabulary. The approach uses an `EmbeddingContraint` callback within a pytorch-lightning trainer."
   ]
  }
 ],
 "metadata": {
  "kernelspec": {
   "display_name": "Python 3 (ipykernel)",
   "language": "python",
   "name": "python3"
  },
  "language_info": {
   "codemirror_mode": {
    "name": "ipython",
    "version": 3
   },
   "file_extension": ".py",
   "mimetype": "text/x-python",
   "name": "python",
   "nbconvert_exporter": "python",
   "pygments_lexer": "ipython3",
   "version": "3.8.8"
  }
 },
 "nbformat": 4,
 "nbformat_minor": 5
}
